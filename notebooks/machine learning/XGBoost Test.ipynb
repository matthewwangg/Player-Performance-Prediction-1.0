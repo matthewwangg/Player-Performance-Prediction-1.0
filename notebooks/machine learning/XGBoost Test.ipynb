{
 "cells": [
  {
   "cell_type": "code",
   "execution_count": 16,
   "id": "bf0b97d2",
   "metadata": {},
   "outputs": [],
   "source": [
    "# Import Statements\n",
    "import pandas as pd\n",
    "import xgboost as xgb\n",
    "from xgboost import XGBRegressor\n",
    "from sklearn.model_selection import train_test_split, GridSearchCV\n",
    "from sklearn.metrics import mean_squared_error\n",
    "from sklearn.model_selection import KFold"
   ]
  },
  {
   "cell_type": "code",
   "execution_count": 17,
   "id": "514b1228",
   "metadata": {},
   "outputs": [],
   "source": [
    "# Reading in the CSV file from Kaggle (Credits to Paola Mazza) into a Pandas Data Frame\n",
    "players_df = pd.read_csv(\"players.csv\")"
   ]
  },
  {
   "cell_type": "code",
   "execution_count": 18,
   "id": "8ff04f68",
   "metadata": {},
   "outputs": [],
   "source": [
    "# Split the dataset based on values in the 'Position' column\n",
    "defenders_df = players_df[players_df['position'] == 'DEF']\n",
    "midfielders_df = players_df[players_df['position'] == 'MID']\n",
    "forwards_df = players_df[players_df['position'] == 'FWD']\n",
    "keepers_df = players_df[players_df['position'] == 'GKP']"
   ]
  },
  {
   "cell_type": "code",
   "execution_count": 19,
   "id": "cc0fcfe7",
   "metadata": {},
   "outputs": [],
   "source": [
    "# Preprocess the data within the Pandas Data Frame\n",
    "def preprocess(position_df):\n",
    "    processed_df = position_df.copy()\n",
    "    processed_df = processed_df.drop_duplicates()\n",
    "    \n",
    "    return processed_df\n",
    "\n",
    "# Defenders Data\n",
    "processed_defenders_df = preprocess(defenders_df)\n",
    "\n",
    "# Midfielders Data\n",
    "processed_midfielders_df = preprocess(midfielders_df)\n",
    "\n",
    "# Forwards Data\n",
    "processed_forwards_df = preprocess(forwards_df)\n",
    "\n",
    "# Keepers Data\n",
    "processed_keepers_df = preprocess(keepers_df)"
   ]
  },
  {
   "cell_type": "code",
   "execution_count": 20,
   "id": "930da288",
   "metadata": {},
   "outputs": [],
   "source": [
    "# Function to perform hyperparameter tuning with cross-validation\n",
    "# Can't run this locally, need computational power\n",
    "def tune_hyperparameters(X, y):\n",
    "    # Define the parameter grid\n",
    "    param_grid = {\n",
    "    'learning_rate': [0.05, 0.1],\n",
    "    'max_depth': [3, 4],\n",
    "    'subsample': [0.8, 1.0],\n",
    "    'colsample_bytree': [0.8, 1.0],\n",
    "    'n_estimators': [100, 200]\n",
    "    }\n",
    "\n",
    "    # Create XGBoost regressor\n",
    "    xgb_model = xgb.XGBRegressor()\n",
    "\n",
    "    # Perform grid search with cross-validation\n",
    "    kfold = KFold(n_splits=5, shuffle=True, random_state=42)\n",
    "    grid_search = GridSearchCV(estimator=xgb_model, param_grid=param_grid, scoring='neg_mean_squared_error', cv=kfold)\n",
    "    grid_search.fit(X, y)\n",
    "\n",
    "    # Get the best parameters\n",
    "    best_params = grid_search.best_params_\n",
    "    print(\"Best Hyperparameters:\", best_params)\n",
    "\n",
    "    return best_params"
   ]
  },
  {
   "cell_type": "code",
   "execution_count": 21,
   "id": "6f2e5b8d",
   "metadata": {},
   "outputs": [],
   "source": [
    "# Function to train XGBoost model with the best hyperparameters\n",
    "# Can't run this locally, need computational power\n",
    "def train_xgboost_model_best(X, y, position):\n",
    "    # Perform hyperparameter tuning\n",
    "    best_params = tune_hyperparameters(X, y)\n",
    "\n",
    "    # Create XGBoost regressor with best hyperparameters\n",
    "    xgb_model = XGBRegressor(**best_params)\n",
    "\n",
    "    # Train the model\n",
    "    xgb_model.fit(X, y)\n",
    "\n",
    "    print(f\"XGBoost Model trained for {position} position.\")\n",
    "\n",
    "    return xgb_model"
   ]
  },
  {
   "cell_type": "code",
   "execution_count": 22,
   "id": "c220af88",
   "metadata": {},
   "outputs": [],
   "source": [
    "# Define hyperparameters (manually selected)\n",
    "hyperparams = {\n",
    "    'learning_rate': 0.1,\n",
    "    'max_depth': 3,\n",
    "    'subsample': 0.8,\n",
    "    'colsample_bytree': 0.8,\n",
    "    'n_estimators': 100\n",
    "}"
   ]
  },
  {
   "cell_type": "code",
   "execution_count": 23,
   "id": "c1cfc421",
   "metadata": {},
   "outputs": [],
   "source": [
    "# Function to train XGBoost model with the predefined hyperparameters\n",
    "def train_xgboost_model(X, y, position):\n",
    "    # Create XGBoost regressor with predefined hyperparameters\n",
    "    xgb_model = XGBRegressor(**hyperparams)\n",
    "\n",
    "    # Train the model\n",
    "    xgb_model.fit(X, y)\n",
    "\n",
    "    print(f\"XGBoost Model trained for {position} position.\")\n",
    "\n",
    "    return xgb_model"
   ]
  },
  {
   "cell_type": "code",
   "execution_count": 24,
   "id": "31f047ac",
   "metadata": {},
   "outputs": [
    {
     "name": "stdout",
     "output_type": "stream",
     "text": [
      "XGBoost Model trained for GKP position.\n",
      "XGBoost Model trained for DEF position.\n",
      "XGBoost Model trained for MID position.\n",
      "XGBoost Model trained for FWD position.\n"
     ]
    }
   ],
   "source": [
    "# Train XGBoost models for each position\n",
    "xgb_model_gkp = train_xgboost_model(processed_keepers_df[processed_keepers_df.select_dtypes(include=['int']).columns], processed_keepers_df['total_points'], \"GKP\")\n",
    "xgb_model_def = train_xgboost_model(processed_defenders_df[processed_defenders_df.select_dtypes(include=['int']).columns], processed_defenders_df['total_points'], \"DEF\")\n",
    "xgb_model_mid = train_xgboost_model(processed_midfielders_df[processed_midfielders_df.select_dtypes(include=['int']).columns], processed_midfielders_df['total_points'], \"MID\")\n",
    "xgb_model_fwd = train_xgboost_model(processed_forwards_df[processed_forwards_df.select_dtypes(include=['int']).columns], processed_forwards_df['total_points'], \"FWD\")"
   ]
  },
  {
   "cell_type": "code",
   "execution_count": 25,
   "id": "bed41947",
   "metadata": {},
   "outputs": [],
   "source": [
    "# Function to evaluate XGBoost model and print MSE\n",
    "def evaluate_model(model, X_test, y_test, position):\n",
    "    # Predictions\n",
    "    y_pred = model.predict(X_test)\n",
    "    # Calculate MSE\n",
    "    mse = mean_squared_error(y_test, y_pred)\n",
    "    print(f\"Mean Squared Error for {position}: {mse}\")"
   ]
  },
  {
   "cell_type": "code",
   "execution_count": 26,
   "id": "6150fc6b",
   "metadata": {},
   "outputs": [
    {
     "name": "stdout",
     "output_type": "stream",
     "text": [
      "Mean Squared Error for GKP: 0.0041144134929303215\n",
      "Mean Squared Error for DEF: 0.0812413861896636\n",
      "Mean Squared Error for MID: 0.20155126849218444\n",
      "Mean Squared Error for FWD: 0.03313075796556716\n"
     ]
    }
   ],
   "source": [
    "# Evaluate models for each position\n",
    "evaluate_model(xgb_model_gkp, processed_keepers_df[processed_keepers_df.select_dtypes(include=['int']).columns], processed_keepers_df['total_points'], \"GKP\")\n",
    "evaluate_model(xgb_model_def, processed_defenders_df[processed_defenders_df.select_dtypes(include=['int']).columns], processed_defenders_df['total_points'], \"DEF\")\n",
    "evaluate_model(xgb_model_mid, processed_midfielders_df[processed_midfielders_df.select_dtypes(include=['int']).columns], processed_midfielders_df['total_points'], \"MID\")\n",
    "evaluate_model(xgb_model_fwd, processed_forwards_df[processed_forwards_df.select_dtypes(include=['int']).columns], processed_forwards_df['total_points'], \"FWD\")"
   ]
  }
 ],
 "metadata": {
  "kernelspec": {
   "display_name": "Python 3 (ipykernel)",
   "language": "python",
   "name": "python3"
  },
  "language_info": {
   "codemirror_mode": {
    "name": "ipython",
    "version": 3
   },
   "file_extension": ".py",
   "mimetype": "text/x-python",
   "name": "python",
   "nbconvert_exporter": "python",
   "pygments_lexer": "ipython3",
   "version": "3.11.3"
  }
 },
 "nbformat": 4,
 "nbformat_minor": 5
}
