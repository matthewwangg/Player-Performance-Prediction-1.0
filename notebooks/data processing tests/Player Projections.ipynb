{
 "cells": [
  {
   "cell_type": "code",
   "execution_count": 9,
   "id": "bf0b97d2",
   "metadata": {},
   "outputs": [],
   "source": [
    "# Import Statements \n",
    "import pandas as pd"
   ]
  },
  {
   "cell_type": "code",
   "execution_count": 10,
   "id": "514b1228",
   "metadata": {},
   "outputs": [],
   "source": [
    "# Reading in the CSV file from Kaggle (Credits to Paola Mazza) into a Pandas Data Frame\n",
    "players_df = pd.read_csv(\"players.csv\")"
   ]
  },
  {
   "cell_type": "code",
   "execution_count": 11,
   "id": "8ff04f68",
   "metadata": {},
   "outputs": [],
   "source": [
    "# Split the dataset based on values in the 'Position' column\n",
    "defenders_df = players_df[players_df['position'] == 'DEF']\n",
    "midfielders_df = players_df[players_df['position'] == 'MID']\n",
    "forwards_df = players_df[players_df['position'] == 'FWD']\n",
    "keepers_df = players_df[players_df['position'] == 'GKP']"
   ]
  },
  {
   "cell_type": "code",
   "execution_count": 12,
   "id": "11070fcb",
   "metadata": {},
   "outputs": [],
   "source": [
    "# Preprocess the data within the Pandas Data Frame\n",
    "def preprocess(position_df):\n",
    "    processed_df = position_df.copy()\n",
    "    processed_df = processed_df.drop_duplicates()\n",
    "    \n",
    "    return processed_df\n",
    "\n",
    "# Defenders Data\n",
    "processed_defenders_df = preprocess(defenders_df)\n",
    "\n",
    "# Midfielders Data\n",
    "processed_midfielders_df = preprocess(midfielders_df)\n",
    "\n",
    "# Forwards Data\n",
    "processed_forwards_df = preprocess(forwards_df)\n",
    "\n",
    "# Keepers Data\n",
    "processed_keepers_df = preprocess(keepers_df)"
   ]
  },
  {
   "cell_type": "code",
   "execution_count": 13,
   "id": "cc0fcfe7",
   "metadata": {},
   "outputs": [],
   "source": [
    "# Function to select the top N rows for each position\n",
    "def select_top_n_rows(position_df, n):\n",
    "    # Sort the DataFrame based on predicted values\n",
    "    sorted_df = position_df.sort_values(by='total_points', ascending=False)\n",
    "    \n",
    "    # Select the top N rows\n",
    "    top_n_rows = sorted_df.head(n)\n",
    "    \n",
    "    return top_n_rows\n",
    "\n",
    "# Select the top N rows for each position\n",
    "top_2_keepers = select_top_n_rows(processed_keepers_df, 2)\n",
    "top_5_defenders = select_top_n_rows(processed_defenders_df, 5)\n",
    "top_5_midfielders = select_top_n_rows(processed_midfielders_df, 5)\n",
    "top_3_forwards = select_top_n_rows(processed_forwards_df, 3)"
   ]
  },
  {
   "cell_type": "code",
   "execution_count": 14,
   "id": "8ea9d2a0",
   "metadata": {},
   "outputs": [
    {
     "name": "stdout",
     "output_type": "stream",
     "text": [
      "Top 2 Keepers with Names:\n",
      "    id                   name\n",
      "0  275             Bernd Leno\n",
      "1  291  Alisson Ramses Becker\n",
      "\n",
      "Top 5 Defenders with Names:\n",
      "    id                    name\n",
      "0  290  Trent Alexander-Arnold\n",
      "1  430         Kieran Trippier\n",
      "2   20          William Saliba\n",
      "3   31     Oleksandr Zinchenko\n",
      "4  506             Pedro Porro\n",
      "\n",
      "Top 5 Midfielders with Names:\n",
      "    id            name\n",
      "0  308   Mohamed Salah\n",
      "1  516   Son Heung-min\n",
      "2  526    Jarrod Bowen\n",
      "3   19     Bukayo Saka\n",
      "4  412  Anthony Gordon\n",
      "\n",
      "Top 3 Forwards with Names:\n",
      "    id             name\n",
      "0  355   Erling Haaland\n",
      "1   60    Ollie Watkins\n",
      "2   85  Dominic Solanke\n"
     ]
    }
   ],
   "source": [
    "# Merge with the original data frame to get player names\n",
    "top_2_keepers_with_names = pd.merge(top_2_keepers[['id']], players_df[['id', 'name']], on='id', how='left')\n",
    "top_5_defenders_with_names = pd.merge(top_5_defenders[['id']], players_df[['id', 'name']], on='id', how='left')\n",
    "top_5_midfielders_with_names = pd.merge(top_5_midfielders[['id']], players_df[['id', 'name']], on='id', how='left')\n",
    "top_3_forwards_with_names = pd.merge(top_3_forwards[['id']], players_df[['id', 'name']], on='id', how='left')\n",
    "\n",
    "# Display the selected rows with names\n",
    "print(\"Top 2 Keepers with Names:\")\n",
    "print(top_2_keepers_with_names)\n",
    "\n",
    "print(\"\\nTop 5 Defenders with Names:\")\n",
    "print(top_5_defenders_with_names)\n",
    "\n",
    "print(\"\\nTop 5 Midfielders with Names:\")\n",
    "print(top_5_midfielders_with_names)\n",
    "\n",
    "print(\"\\nTop 3 Forwards with Names:\")\n",
    "print(top_3_forwards_with_names)"
   ]
  },
  {
   "cell_type": "code",
   "execution_count": 15,
   "id": "00e6e0ee",
   "metadata": {},
   "outputs": [],
   "source": [
    "# Function to select the top N rows for each position\n",
    "def select_top_n_rows_per_cost(position_df, n):\n",
    "    # Calculate the scaled value by dividing predicted values by the 'cost' column\n",
    "    position_df['scaled_value'] = position_df['total_points'] / position_df['now_cost']\n",
    "\n",
    "    # Sort the DataFrame based on the scaled value\n",
    "    sorted_df = position_df.sort_values(by='scaled_value', ascending=False)\n",
    "\n",
    "    # Select the top N rows\n",
    "    top_n_rows = sorted_df.head(n)\n",
    "\n",
    "    return top_n_rows\n",
    "\n",
    "# Select the top N rows for each position\n",
    "top_2_keepers_per_cost = select_top_n_rows_per_cost(processed_keepers_df, 2)\n",
    "top_5_defenders_per_cost = select_top_n_rows_per_cost(processed_defenders_df, 5)\n",
    "top_5_midfielders_per_cost = select_top_n_rows_per_cost(processed_midfielders_df, 5)\n",
    "top_3_forwards_per_cost = select_top_n_rows_per_cost(processed_forwards_df, 3)\n"
   ]
  },
  {
   "cell_type": "code",
   "execution_count": 16,
   "id": "febb1709",
   "metadata": {},
   "outputs": [
    {
     "name": "stdout",
     "output_type": "stream",
     "text": [
      "Top 2 Keepers with Names Per Cost:\n",
      "    id         name\n",
      "0  597  André Onana\n",
      "1  275   Bernd Leno\n",
      "\n",
      "Top 5 Defenders with Names Per Cost:\n",
      "    id                 name\n",
      "0  265      James Tarkowski\n",
      "1  260    Vitalii Mykolenko\n",
      "2  220     Joachim Andersen\n",
      "3   31  Oleksandr Zinchenko\n",
      "4   20       William Saliba\n",
      "\n",
      "Top 5 Midfielders with Names Per Cost:\n",
      "    id                          name\n",
      "0   43  Douglas Luiz Soares de Paulo\n",
      "1  412                Anthony Gordon\n",
      "2  557                Hwang Hee-chan\n",
      "3  249            Abdoulaye Doucouré\n",
      "4  362                   Cole Palmer\n",
      "\n",
      "Top 3 Forwards with Names Per Cost:\n",
      "    id             name\n",
      "0   85  Dominic Solanke\n",
      "1   60    Ollie Watkins\n",
      "2  343   Julián Álvarez\n"
     ]
    }
   ],
   "source": [
    "# Merge with the original data frame to get player names\n",
    "top_2_keepers_with_names_per_cost = pd.merge(top_2_keepers_per_cost[['id']], players_df[['id', 'name']], on='id', how='left')\n",
    "top_5_defenders_with_names_per_cost = pd.merge(top_5_defenders_per_cost[['id']], players_df[['id', 'name']], on='id', how='left')\n",
    "top_5_midfielders_with_names_per_cost = pd.merge(top_5_midfielders_per_cost[['id']], players_df[['id', 'name']], on='id', how='left')\n",
    "top_3_forwards_with_names_per_cost = pd.merge(top_3_forwards_per_cost[['id']], players_df[['id', 'name']], on='id', how='left')\n",
    "\n",
    "# Display the selected rows with names\n",
    "print(\"Top 2 Keepers with Names Per Cost:\")\n",
    "print(top_2_keepers_with_names_per_cost)\n",
    "\n",
    "print(\"\\nTop 5 Defenders with Names Per Cost:\")\n",
    "print(top_5_defenders_with_names_per_cost)\n",
    "\n",
    "print(\"\\nTop 5 Midfielders with Names Per Cost:\")\n",
    "print(top_5_midfielders_with_names_per_cost)\n",
    "\n",
    "print(\"\\nTop 3 Forwards with Names Per Cost:\")\n",
    "print(top_3_forwards_with_names_per_cost)"
   ]
  }
 ],
 "metadata": {
  "kernelspec": {
   "display_name": "Python 3 (ipykernel)",
   "language": "python",
   "name": "python3"
  },
  "language_info": {
   "codemirror_mode": {
    "name": "ipython",
    "version": 3
   },
   "file_extension": ".py",
   "mimetype": "text/x-python",
   "name": "python",
   "nbconvert_exporter": "python",
   "pygments_lexer": "ipython3",
   "version": "3.11.3"
  }
 },
 "nbformat": 4,
 "nbformat_minor": 5
}
