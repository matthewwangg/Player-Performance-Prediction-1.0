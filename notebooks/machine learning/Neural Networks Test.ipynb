{
 "cells": [
  {
   "cell_type": "code",
   "execution_count": 22,
   "id": "bf0b97d2",
   "metadata": {},
   "outputs": [],
   "source": [
    "# Import Statements \n",
    "import pandas as pd\n",
    "import numpy\n",
    "import torch\n",
    "import torch.nn as nn\n",
    "import torch.optim as optim\n",
    "import numpy as np\n",
    "from sklearn.preprocessing import StandardScaler\n",
    "from sklearn.model_selection import train_test_split\n",
    "from sklearn.metrics import mean_squared_error"
   ]
  },
  {
   "cell_type": "code",
   "execution_count": 23,
   "id": "514b1228",
   "metadata": {},
   "outputs": [],
   "source": [
    "# Reading in the CSV file from Kaggle (Credits to Paola Mazza) into a Pandas Data Frame\n",
    "players_df = pd.read_csv(\"players.csv\")"
   ]
  },
  {
   "cell_type": "code",
   "execution_count": 5,
   "id": "8ff04f68",
   "metadata": {},
   "outputs": [],
   "source": [
    "# Split the dataset based on values in the 'Position' column\n",
    "defenders_df = players_df[players_df['position'] == 'DEF']\n",
    "midfielders_df = players_df[players_df['position'] == 'MID']\n",
    "forwards_df = players_df[players_df['position'] == 'FWD']\n",
    "keepers_df = players_df[players_df['position'] == 'GKP']"
   ]
  },
  {
   "cell_type": "code",
   "execution_count": 6,
   "id": "9a3a39bf",
   "metadata": {},
   "outputs": [],
   "source": [
    "# Preprocess the data within the Pandas Data Frame\n",
    "def preprocess(position_df):\n",
    "    processed_df = position_df.copy()\n",
    "    processed_df = processed_df.drop_duplicates()\n",
    "    \n",
    "    return processed_df\n",
    "\n",
    "# Defenders Data\n",
    "processed_defenders_df = preprocess(defenders_df)\n",
    "\n",
    "# Midfielders Data\n",
    "processed_midfielders_df = preprocess(midfielders_df)\n",
    "\n",
    "# Forwards Data\n",
    "processed_forwards_df = preprocess(forwards_df)\n",
    "\n",
    "# Keepers Data\n",
    "processed_keepers_df = preprocess(keepers_df)"
   ]
  },
  {
   "cell_type": "code",
   "execution_count": 25,
   "id": "616fc4df",
   "metadata": {},
   "outputs": [],
   "source": [
    "class NeuralNetwork(nn.Module):\n",
    "    def __init__(self, input_size, hidden_size1, hidden_size2):\n",
    "        super(NeuralNetwork, self).__init__()\n",
    "        self.fc1 = nn.Linear(input_size, hidden_size1)\n",
    "        self.fc2 = nn.Linear(hidden_size1, hidden_size2)\n",
    "        self.fc3 = nn.Linear(hidden_size2, 1)\n",
    "\n",
    "    def forward(self, x):\n",
    "        x = torch.relu(self.fc1(x))\n",
    "        x = torch.relu(self.fc2(x))\n",
    "        x = self.fc3(x)\n",
    "        return x"
   ]
  },
  {
   "cell_type": "code",
   "execution_count": 36,
   "id": "b426cd0c",
   "metadata": {},
   "outputs": [],
   "source": [
    "def create_and_train_nn(df, player_type):\n",
    "    # Extract features and target variable\n",
    "    X = df.drop(['total_points'], axis=1).values\n",
    "    y = df['total_points'].values\n",
    "\n",
    "    # Standardize features\n",
    "    scaler = StandardScaler()\n",
    "    X_scaled = scaler.fit_transform(X)\n",
    "\n",
    "    # Split the data into training and testing sets\n",
    "    X_train, X_test, y_train, y_test = train_test_split(X_scaled, y, test_size=0.2, random_state=42)\n",
    "\n",
    "    # Convert data to PyTorch tensors\n",
    "    X_train = torch.FloatTensor(X_train)\n",
    "    X_test = torch.FloatTensor(X_test)\n",
    "    y_train = torch.FloatTensor(y_train)\n",
    "    y_test = torch.FloatTensor(y_test)\n",
    "\n",
    "    # Create the model\n",
    "    input_size = X_train.shape[1]\n",
    "    hidden_size1 = 64\n",
    "    hidden_size2 = 32\n",
    "    model = NeuralNetwork(input_size, hidden_size1, hidden_size2)\n",
    "\n",
    "    # Define loss function and optimizer\n",
    "    criterion = nn.MSELoss()\n",
    "    optimizer = optim.Adam(model.parameters(), lr=0.001)\n",
    "\n",
    "    # Train the model\n",
    "    epochs = 1000\n",
    "    for epoch in range(epochs):\n",
    "        model.train()\n",
    "        optimizer.zero_grad()\n",
    "        outputs = model(X_train)\n",
    "        loss = criterion(outputs, y_train.view(-1, 1))\n",
    "        loss.backward()\n",
    "        optimizer.step()\n",
    "\n",
    "    # Evaluate the model on the test set\n",
    "    model.eval()\n",
    "    with torch.no_grad():\n",
    "        y_pred = model(X_test)\n",
    "        mse = mean_squared_error(y_test.numpy(), y_pred.numpy().flatten())\n",
    "        print(f'Mean Squared Error for {player_type}: {mse}')\n",
    "\n",
    "    return model"
   ]
  },
  {
   "cell_type": "code",
   "execution_count": 39,
   "id": "aaa6d881",
   "metadata": {},
   "outputs": [
    {
     "name": "stdout",
     "output_type": "stream",
     "text": [
      "Mean Squared Error for Defenders: 7.910803318023682\n",
      "Mean Squared Error for Midfielders: 8.129537582397461\n",
      "Mean Squared Error for Forwards: 99.73937225341797\n",
      "Mean Squared Error for Keepers: 8.17061996459961\n"
     ]
    },
    {
     "data": {
      "text/plain": [
       "NeuralNetwork(\n",
       "  (fc1): Linear(in_features=42, out_features=64, bias=True)\n",
       "  (fc2): Linear(in_features=64, out_features=32, bias=True)\n",
       "  (fc3): Linear(in_features=32, out_features=1, bias=True)\n",
       ")"
      ]
     },
     "execution_count": 39,
     "metadata": {},
     "output_type": "execute_result"
    }
   ],
   "source": [
    "create_and_train_nn(processed_defenders_df[processed_defenders_df.select_dtypes(include=['int']).columns], \"Defenders\")\n",
    "create_and_train_nn(processed_midfielders_df[processed_midfielders_df.select_dtypes(include=['int']).columns], \"Midfielders\")\n",
    "create_and_train_nn(processed_forwards_df[processed_forwards_df.select_dtypes(include=['int']).columns], \"Forwards\")\n",
    "create_and_train_nn(processed_keepers_df[processed_keepers_df.select_dtypes(include=['int']).columns], \"Keepers\")"
   ]
  },
  {
   "cell_type": "code",
   "execution_count": null,
   "id": "8b4816e5",
   "metadata": {},
   "outputs": [],
   "source": []
  }
 ],
 "metadata": {
  "kernelspec": {
   "display_name": "Python 3 (ipykernel)",
   "language": "python",
   "name": "python3"
  },
  "language_info": {
   "codemirror_mode": {
    "name": "ipython",
    "version": 3
   },
   "file_extension": ".py",
   "mimetype": "text/x-python",
   "name": "python",
   "nbconvert_exporter": "python",
   "pygments_lexer": "ipython3",
   "version": "3.11.3"
  }
 },
 "nbformat": 4,
 "nbformat_minor": 5
}
